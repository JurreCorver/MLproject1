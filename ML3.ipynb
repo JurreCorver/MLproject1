{
 "cells": [
  {
   "cell_type": "code",
   "execution_count": 73,
   "metadata": {
    "collapsed": true
   },
   "outputs": [],
   "source": [
    "#This file is the successor to ML1. Functions are a bit more modular\n",
    "#draws functions from jurrefuncs.py\n",
    "#will use this file to study the correlations of the multi cluster data when it becomes available\n",
    "from jurrefuncs import *\n",
    "import numpy as np\n"
   ]
  },
  {
   "cell_type": "code",
   "execution_count": 74,
   "metadata": {
    "collapsed": false
   },
   "outputs": [],
   "source": [
    "#retrieve the data from several files and put it in datamatrix\n",
    "from numpy import genfromtxt\n",
    "dataFile = []\n",
    "rangenr = 10\n",
    "for i in range(1, rangenr):\n",
    "    dataFile.append(genfromtxt(\"feature extraction\\dataset\\clustering\\sum up of the feature\\sumupCluster_\"+ str(i) +\"_train_org.csv\", delimiter=','))\n",
    "#dataMatrix = genfromtxt(\"feature extraction\\dataset\\clustering\\sum up of the feature\\sumupCluster_4_train_org.csv\", delimiter=',')\n",
    "featurelength = len(dataFile[0]) -1\n",
    "\n",
    "tempMatrix = np.array([dataFile[i][0:-1] for i in range(0, rangenr-1) ])\n",
    "features = tempMatrix.reshape(-1, tempMatrix.shape[-1])\n",
    "labels = dataFile[0][6]\n",
    "\n",
    "#Also import the testdata\n",
    "\n",
    "testdataFile = []\n",
    "for i in range(1, rangenr):\n",
    "    testdataFile.append(genfromtxt(\"feature extraction\\dataset\\clustering\\sum up of the feature\\sumupCluster_\"+ str(i) +\"_test_org.csv\", delimiter=','))\n",
    "\n",
    "\n",
    "\n",
    "testtempMatrix = np.array([testdataFile[i] for i in range(0, rangenr-1) ]) #does nothing\n",
    "testfeatures = testtempMatrix.reshape(-1, testtempMatrix.shape[-1])\n",
    "\n"
   ]
  },
  {
   "cell_type": "code",
   "execution_count": 43,
   "metadata": {
    "collapsed": false,
    "scrolled": true
   },
   "outputs": [],
   "source": [
    "x_names = ['mean', 'variance' , 'standard variance', 'median', 'skewness', 'kurtosis']\n",
    "y_name = 'Brain age'\n",
    "#scatterPlotGrid(dataMatrix[0:6], dataMatrix[6], 3, 3, x_names, y_name) "
   ]
  },
  {
   "cell_type": "code",
   "execution_count": null,
   "metadata": {
    "collapsed": true
   },
   "outputs": [],
   "source": []
  },
  {
   "cell_type": "code",
   "execution_count": null,
   "metadata": {
    "collapsed": false
   },
   "outputs": [],
   "source": [
    "#Recursive feature selection with cross validation, seems to take a while sadly\n",
    "#This is the one we are going to use in ML3\n",
    "from sklearn.datasets import make_friedman1\n",
    "from sklearn.feature_selection import RFECV\n",
    "from sklearn.svm import SVR\n",
    "#X = [[dataMatrix[i][j] for i in range(0, 6)] for j in range(0, len(dataMatrix[1]))   ]\n",
    "#y = dataMatrix[6]\n",
    "\n",
    "X = [[features[i][j] for i in range(0, 40)] for j in range(0, len(features[0]))   ] \n",
    "#X = [[features[i][j] for i in range(0, len(features) )] for j in range(0, len(features[0]))   ] \n",
    "y = labels\n",
    "estimator = SVR(kernel=\"linear\")\n",
    "selector = RFECV(estimator, step=1, cv=3)\n",
    "selector = selector.fit(X, y)\n",
    "selectedBool = selector.support_ \n",
    "selectedBool\n"
   ]
  },
  {
   "cell_type": "code",
   "execution_count": 17,
   "metadata": {
    "collapsed": true
   },
   "outputs": [],
   "source": [
    "selectedFeatures = []\n",
    "for i in range(0, len(selectedBool) ):\n",
    "    if selectedBool[i] == True:\n",
    "        selectedFeatures.append(features[i])\n",
    "    "
   ]
  },
  {
   "cell_type": "code",
   "execution_count": 78,
   "metadata": {
    "collapsed": true
   },
   "outputs": [],
   "source": [
    "testData = [[testfeatures[i][j] for i in range(0, 22)] for j in range(0, len(testfeatures[0]))   ]\n",
    "ans = selector.predict(testData)\n",
    "\n",
    "import csv\n",
    "c = csv.writer(open(\"submissionjurre3.csv\", \"wb\"))\n",
    "c.writerow(['ID' , 'Prediction'])\n",
    "for i in range(0, len(ans)):\n",
    "    c.writerow([i+1 , ans[i]])"
   ]
  },
  {
   "cell_type": "code",
   "execution_count": 79,
   "metadata": {
    "collapsed": false
   },
   "outputs": [
    {
     "name": "stdout",
     "output_type": "stream",
     "text": [
      "84.0\n",
      "[ 80.58913545]\n"
     ]
    },
    {
     "name": "stderr",
     "output_type": "stream",
     "text": [
      "C:\\Users\\jurre\\Anaconda2\\lib\\site-packages\\sklearn\\utils\\validation.py:386: DeprecationWarning: Passing 1d arrays as data is deprecated in 0.17 and willraise ValueError in 0.19. Reshape your data either using X.reshape(-1, 1) if your data has a single feature or X.reshape(1, -1) if it contains a single sample.\n",
      "  DeprecationWarning)\n"
     ]
    }
   ],
   "source": [
    "print(y[3])\n",
    "print(selector.predict(testData[1]))\n",
    "\n"
   ]
  },
  {
   "cell_type": "code",
   "execution_count": 71,
   "metadata": {
    "collapsed": false
   },
   "outputs": [
    {
     "name": "stdout",
     "output_type": "stream",
     "text": [
      "[485.33999999999997, 42408.0, 173.78999999999999, 449.0]\n",
      "[536.52999999999997, 43949.0, 187.19999999999999, 516.0]\n"
     ]
    }
   ],
   "source": [
    "print(X[1][6:10])\n",
    "print(testData[1][6:10])"
   ]
  },
  {
   "cell_type": "code",
   "execution_count": null,
   "metadata": {
    "collapsed": false
   },
   "outputs": [],
   "source": [
    "#from sklearn.linear_modelinear import lasso\n",
    "\n",
    "from sklearn import datasets, linear_model\n",
    "\n",
    "features = [[dataMatrix[i][j] for i in range(0, 6)] for j in range(0, len(dataMatrix[1]))   ]\n",
    "label = dataMatrix[6]\n",
    "regr = linear_model.LinearRegression()\n",
    "regr.fit(features , labels)\n"
   ]
  },
  {
   "cell_type": "code",
   "execution_count": null,
   "metadata": {
    "collapsed": false
   },
   "outputs": [],
   "source": [
    "testdataMatrix = genfromtxt(\"feature extraction\\dataset\\clustering\\sum up of the feature\\sumupCluster_4_test_org.csv\", delimiter=',')\n",
    "testData = [[testdataMatrix[i][j] for i in range(0, 6)] for j in range(0, len(testdataMatrix[1]))   ]\n",
    "ans = regr.predict(testData)\n",
    "\n",
    "import csv\n",
    "c = csv.writer(open(\"submissionjurre3.csv\", \"wb\"))\n",
    "c.writerow(['ID' , 'Prediction'])\n",
    "for i in range(0, len(ans)):\n",
    "    c.writerow([i+1 , ans[i]])"
   ]
  },
  {
   "cell_type": "code",
   "execution_count": null,
   "metadata": {
    "collapsed": false
   },
   "outputs": [],
   "source": [
    " "
   ]
  },
  {
   "cell_type": "code",
   "execution_count": null,
   "metadata": {
    "collapsed": false
   },
   "outputs": [],
   "source": [
    "#Recursive feature selection with cross validation, seems to take a while sadly\n",
    "#This is the one we are going to use in ML3\n",
    "from sklearn.datasets import make_friedman1\n",
    "from sklearn.feature_selection import RFECV\n",
    "from sklearn.svm import SVR\n",
    "X = [[dataMatrix[i][j] for i in range(0, 6)] for j in range(0, len(dataMatrix[1]))   ]\n",
    "y = dataMatrix[6]\n",
    "estimator = SVR(kernel=\"linear\")\n",
    "selector = RFECV(estimator, step=2, cv=5)\n",
    "selector = selector.fit(X, y)\n",
    "selector.support_ \n"
   ]
  },
  {
   "cell_type": "code",
   "execution_count": null,
   "metadata": {
    "collapsed": true
   },
   "outputs": [],
   "source": []
  }
 ],
 "metadata": {
  "kernelspec": {
   "display_name": "Python 2",
   "language": "python",
   "name": "python2"
  },
  "language_info": {
   "codemirror_mode": {
    "name": "ipython",
    "version": 2
   },
   "file_extension": ".py",
   "mimetype": "text/x-python",
   "name": "python",
   "nbconvert_exporter": "python",
   "pygments_lexer": "ipython2",
   "version": "2.7.11"
  }
 },
 "nbformat": 4,
 "nbformat_minor": 0
}
